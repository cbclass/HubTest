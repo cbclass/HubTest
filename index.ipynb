{
 "cells": [
  {
   "cell_type": "markdown",
   "id": "53788bb7",
   "metadata": {},
   "source": [
    "# Notebooks"
   ]
  },
  {
   "cell_type": "markdown",
   "id": "30e453e6",
   "metadata": {},
   "source": [
    "Hier kommt dann ein bisschen ein einleitender Text.....\n",
    "\n",
    "Links zu Notebooks in der Lehre....\n",
    "\n",
    "Im Laufe des Semesters kann das einfach ergänzt werden...."
   ]
  },
  {
   "cell_type": "markdown",
   "id": "6fefdbc7",
   "metadata": {},
   "source": [
    "1. [Python Erste Schritte](NB_Erste_Schritte.ipynb)\n",
    "2. [Selektion](NB_Selektion.ipynb)\n",
    "3. [Iteration mit while](NB_Iteration_whilev1.1.ipynb)\n"
   ]
  },
  {
   "cell_type": "markdown",
   "id": "a65a460e",
   "metadata": {},
   "source": [
    "Und es sollte eine Lizenz haben, da das **public** ist."
   ]
  },
  {
   "cell_type": "markdown",
   "id": "7efc7fdc",
   "metadata": {
    "deletable": false,
    "editable": false
   },
   "source": [
    "<a rel=\"license\" href=\"http://creativecommons.org/licenses/by-nc-nd/4.0/\"><img alt=\"Creative Commons Lizenzvertrag\" style=\"border-width:0\" src=\"https://i.creativecommons.org/l/by-nc-nd/4.0/88x31.png\" /></a><br /><span xmlns:dct=\"http://purl.org/dc/terms/\" property=\"dct:title\">Dieses Notebook wurde von Christina B. Class für die Lehre an der EAH Jena erstellt. Es ist lizenziert unter einer <a rel=\"license\" href=\"http://creativecommons.org/licenses/by-nc-nd/4.0/\">Creative Commons Namensnennung - Nicht kommerziell - Keine Bearbeitungen 4.0 International Lizenz</a>."
   ]
  }
 ],
 "metadata": {
  "kernelspec": {
   "display_name": "Python 3 (ipykernel)",
   "language": "python",
   "name": "python3"
  },
  "language_info": {
   "codemirror_mode": {
    "name": "ipython",
    "version": 3
   },
   "file_extension": ".py",
   "mimetype": "text/x-python",
   "name": "python",
   "nbconvert_exporter": "python",
   "pygments_lexer": "ipython3",
   "version": "3.10.13"
  }
 },
 "nbformat": 4,
 "nbformat_minor": 5
}
